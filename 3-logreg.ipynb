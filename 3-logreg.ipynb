{
 "cells": [
  {
   "cell_type": "markdown",
   "metadata": {},
   "source": [
    "## Регрессия"
   ]
  },
  {
   "cell_type": "markdown",
   "metadata": {},
   "source": [
    "### Задача 1\n",
    "\n",
    "Обучите модель линейной регрессии для прогнозирования и введите указанные параметры. Для лучшего восприятия материала рекомендуем найти параметры модели самостоятельно (например, средствами MS Excel), подобно тому, как это было рассмотрено в лекции.\n",
    "\n",
    "Определите выборочное среднее X \n",
    "\n",
    "Определите выборочное среднее Y\n",
    "\n",
    "Найдите коэффициент Theta_0\n",
    "\n",
    "Найдите коэффициент Theta_1\n",
    "\n",
    "Оцените точность модели, вычислив R^2 статистику\n"
   ]
  },
  {
   "cell_type": "code",
   "execution_count": 1,
   "metadata": {},
   "outputs": [
    {
     "name": "stdout",
     "output_type": "stream",
     "text": [
      "Sample mean of X: 13.7\n",
      "Sample mean of Y: 38.1\n",
      "Theta_1 coefficient: 2.638175144205557\n",
      "Theta_0 coefficient: 1.9570005243838722\n",
      "R^2 statistic: 0.9676535870007653\n"
     ]
    }
   ],
   "source": [
    "import numpy as np\n",
    "\n",
    "X = np.array([14, 21, 25, 8, 20, 18, 17, 3, 1, 10])\n",
    "Y = np.array([36, 49, 72, 24, 56, 48, 51, 10, 3, 32])\n",
    "\n",
    "mean_x = np.mean(X)\n",
    "mean_y = np.mean(Y)\n",
    "\n",
    "numerator = np.sum(X*Y) - len(X) * mean_x * mean_y\n",
    "denominator = np.sum(X**2) - len(X) * mean_x**2\n",
    "Theta_1 = numerator / denominator\n",
    "\n",
    "Theta_0 = mean_y - Theta_1 * mean_x\n",
    "\n",
    "y_pred = Theta_0 + Theta_1 * X\n",
    "SSR = np.sum((Y - y_pred)**2)\n",
    "SST = np.sum((Y - mean_y)**2)\n",
    "R_squared = 1 - SSR/SST\n",
    "\n",
    "print(f\"Sample mean of X: {mean_x}\")\n",
    "print(f\"Sample mean of Y: {mean_y}\")\n",
    "print(f\"Theta_1 coefficient: {Theta_1}\")\n",
    "print(f\"Theta_0 coefficient: {Theta_0}\")\n",
    "print(f\"R^2 statistic: {R_squared}\")"
   ]
  },
  {
   "cell_type": "markdown",
   "metadata": {},
   "source": [
    "### Задача 2\n",
    "\n",
    "Представленный набор данных — это набор данных о семи различных типах рыб, продаваемых в некоторой рыбной лавке. Цель заключается в том, чтобы предсказать массу рыбы по каким-то косвенным признакам, известным о рыбе. Сами признаки, быть может, нужно синтезировать из тех, что известны.\n",
    "\n",
    "ВАЖНО: Задания с подробными пояснениями представлены в документе. Выполняя задания в Rapid Miner, следует вводить полученные ответы в соответствующие поля ввода ниже. Рекомендуем вводить ответы поэтапно, для этого специально предусмотрено достаточное количество попыток.\n",
    "\n",
    "При помощи блока Split data разбейте набор данных на обучающую и тестовую выборки (доля тестовой части = 0.2) с параметром local random seed = 15. Используйте стратификацию по колонке Species. Стратификация позволит сохранить доли представленных объектов (по представителям типов рыб) в тренировочной и тестовой выборках.\n",
    "\n",
    "Вычислите выборочное среднее колонки Width полученной тренировочной выборки.\n",
    "Десятичный разделитель точка. Ответ округлите до тысячных."
   ]
  },
  {
   "cell_type": "code",
   "execution_count": 2,
   "metadata": {},
   "outputs": [
    {
     "name": "stdout",
     "output_type": "stream",
     "text": [
      "The sample mean of the 'Width' column is: 4.651\n"
     ]
    }
   ],
   "source": [
    "import pandas as pd\n",
    "from sklearn.model_selection import train_test_split\n",
    "\n",
    "data = pd.read_csv('C:/Users/dima/Desktop/ITMO_PII/data/fish_train.csv')\n",
    "\n",
    "df = pd.DataFrame(data)\n",
    "\n",
    "train_df, test_df = train_test_split(df, test_size=0.2, random_state=15, stratify=df['Species'])\n",
    "\n",
    "mean_width = train_df['Width'].mean()\n",
    "\n",
    "print(f\"The sample mean of the 'Width' column is: {mean_width:.3f}\")\n"
   ]
  },
  {
   "cell_type": "markdown",
   "metadata": {},
   "source": [
    "Построение базовой модели\n",
    "\n",
    "Избавьтесь от категориальных признаков и обучите модель линейной регрессии (Linear Regression ) со следующими параметрами: feature selection = none, eliminate colinear features = False на тренировочном наборе данных. Выполните предсказания для тестового набора данных.\n",
    "Оцените модель при помощи метрики squared correlation.\n",
    "\n",
    "Введите squared correlation полученной модели.\n",
    "Десятичный разделитель точка. Ответ округлите до тысячных."
   ]
  },
  {
   "cell_type": "code",
   "execution_count": 3,
   "metadata": {},
   "outputs": [
    {
     "name": "stdout",
     "output_type": "stream",
     "text": [
      "Squared correlation (R^2 score squared) is: 0.620\n"
     ]
    }
   ],
   "source": [
    "import pandas as pd\n",
    "from sklearn.model_selection import train_test_split\n",
    "from sklearn.linear_model import LinearRegression\n",
    "from sklearn.metrics import r2_score\n",
    "\n",
    "X = df.drop(columns=['Species', 'Weight'])  \n",
    "y = df['Weight']\n",
    "\n",
    "X_train, X_test, y_train, y_test = train_test_split(X, y, test_size=0.2, random_state=15, stratify=df['Species'])\n",
    "\n",
    "model = LinearRegression()\n",
    "\n",
    "model.fit(X_train, y_train)\n",
    "\n",
    "predictions = model.predict(X_test)\n",
    "\n",
    "squared_correlation = r2_score(y_test, predictions)**2\n",
    "\n",
    "print(f\"Squared correlation (R^2 score squared) is: {squared_correlation:.3f}\")\n"
   ]
  },
  {
   "cell_type": "markdown",
   "metadata": {},
   "source": [
    "Добавление предварительной обработки признаков.\n",
    "\n",
    "Использование PCA.\n",
    "\n",
    "Перечислите через запятую и пробел тройку отбрасываемых наиболее коррелированных признаков.\n",
    "Например: Height, Width, Length3"
   ]
  },
  {
   "cell_type": "code",
   "execution_count": 4,
   "metadata": {},
   "outputs": [
    {
     "name": "stdout",
     "output_type": "stream",
     "text": [
      "Features to remove: Length1, Length2, Length3\n"
     ]
    }
   ],
   "source": [
    "import pandas as pd\n",
    "import numpy as np\n",
    "\n",
    "numerical_features = df.select_dtypes(include=[np.number]).drop(columns=['Weight'])\n",
    "\n",
    "correlation_matrix = numerical_features.corr().abs()\n",
    "\n",
    "upper_triangle = correlation_matrix.where(\n",
    "    np.triu(np.ones(correlation_matrix.shape), k=1).astype(bool)\n",
    ")\n",
    "\n",
    "sorted_pairs = upper_triangle.unstack().sort_values(ascending=False)\n",
    "\n",
    "most_correlated_features = sorted_pairs.head(3).index.tolist()\n",
    "features_to_remove = list({feature for pair in most_correlated_features for feature in pair})\n",
    "\n",
    "print(f\"Features to remove: {', '.join(features_to_remove)}\")"
   ]
  },
  {
   "cell_type": "markdown",
   "metadata": {},
   "source": [
    "Обучите модель PCA для трех наиболее коррелированных признаков. Введите долю объясненной дисперсии при использовании только первой главной компоненты.\n",
    "\n",
    "Десятичный разделитель точка. Ответ округлите до тысячных."
   ]
  },
  {
   "cell_type": "code",
   "execution_count": 5,
   "metadata": {},
   "outputs": [
    {
     "name": "stdout",
     "output_type": "stream",
     "text": [
      "Explained variance ratio using the first principal component: 0.996\n"
     ]
    }
   ],
   "source": [
    "from sklearn.decomposition import PCA\n",
    "\n",
    "X_correlated_features = df[features_to_remove]\n",
    "\n",
    "pca = PCA(n_components=1)\n",
    "\n",
    "pca.fit(X_correlated_features)\n",
    "\n",
    "explained_variance_ratio = pca.explained_variance_ratio_[0]\n",
    "\n",
    "print(f\"Explained variance ratio using the first principal component: {explained_variance_ratio:.3f}\")\n"
   ]
  },
  {
   "cell_type": "markdown",
   "metadata": {},
   "source": [
    "Замените тройку наиболее коррелированных признаков на полученный признак Lengths, значения которого совпадают со счетами первой главной компоненты. Обучите модель линейной регрессии. Введите squared correlation полученной модели.\n",
    "\n",
    "Десятичный разделитель точка. Ответ округлите до тысячных."
   ]
  },
  {
   "cell_type": "code",
   "execution_count": 6,
   "metadata": {},
   "outputs": [
    {
     "name": "stdout",
     "output_type": "stream",
     "text": [
      "Squared correlation (R² score squared) is: 0.588\n"
     ]
    }
   ],
   "source": [
    "from sklearn.decomposition import PCA\n",
    "from sklearn.model_selection import train_test_split\n",
    "from sklearn.linear_model import LinearRegression\n",
    "from sklearn.metrics import r2_score\n",
    "\n",
    "correlated_features = ['Length2', 'Length3', 'Length1']  \n",
    "X_correlated = df[correlated_features]\n",
    "pca = PCA(n_components=1)\n",
    "X_pca = pca.fit_transform(X_correlated)\n",
    "\n",
    "df_reduced = df.drop(columns=correlated_features)\n",
    "df_reduced['Lengths'] = X_pca[:, 0]\n",
    "\n",
    "X = df_reduced.drop(columns=['Species', 'Weight'])\n",
    "y = df_reduced['Weight']\n",
    "X_train, X_test, y_train, y_test = train_test_split(X, y, test_size=0.2, random_state=15, stratify=df['Species'])\n",
    "\n",
    "model = LinearRegression()\n",
    "model.fit(X_train, y_train)\n",
    "\n",
    "predictions = model.predict(X_test)\n",
    "\n",
    "squared_correlation = r2_score(y_test, predictions)**2\n",
    "\n",
    "print(f\"Squared correlation (R² score squared) is: {squared_correlation:.3f}\")\n"
   ]
  },
  {
   "cell_type": "markdown",
   "metadata": {},
   "source": [
    "Модификация признаков.\n",
    "\n",
    "Используя полученный на предыдущем этапе набор данных, возведите в куб значения признаков Width, Height, Lengths. Введите выборочное среднее колонки Width тренировочного набора данных после возведения в куб.\n",
    "\n",
    "Десятичный разделитель точка. Ответ округлите до тысячных."
   ]
  },
  {
   "cell_type": "code",
   "execution_count": 7,
   "metadata": {},
   "outputs": [
    {
     "name": "stdout",
     "output_type": "stream",
     "text": [
      "Sample mean of the 'Width' column after cubing is: 139.091\n"
     ]
    }
   ],
   "source": [
    "import pandas as pd\n",
    "from sklearn.model_selection import train_test_split\n",
    "\n",
    "df_reduced['Width'] = df_reduced['Width'] ** 3\n",
    "df_reduced['Height'] = df_reduced['Height'] ** 3 \n",
    "df_reduced['Lengths'] = df_reduced['Lengths'] ** 3\n",
    "\n",
    "X = df_reduced.drop(columns=['Species', 'Weight'])\n",
    "y = df_reduced['Weight']\n",
    "X_train, X_test, y_train, y_test = train_test_split(X, y, test_size=0.2, random_state=15, stratify=df_reduced['Species'])\n",
    "\n",
    "mean_width_cubed = X_train['Width'].mean()\n",
    "\n",
    "print(f\"Sample mean of the 'Width' column after cubing is: {mean_width_cubed:.3f}\")\n"
   ]
  },
  {
   "cell_type": "markdown",
   "metadata": {},
   "source": [
    "Введите номер изображения, соответствующего зависимости Weight от Width после преобразования.\n",
    "\n",
    "Введите число 1 или 2."
   ]
  },
  {
   "cell_type": "code",
   "execution_count": 8,
   "metadata": {},
   "outputs": [
    {
     "data": {
      "image/png": "[encoded data removed]",
      "text/plain": [
       "<Figure size 640x480 with 1 Axes>"
      ]
     },
     "metadata": {},
     "output_type": "display_data"
    }
   ],
   "source": [
    "import matplotlib.pyplot as plt\n",
    "\n",
    "plt.subplot(1, 2, 2)  \n",
    "plt.scatter(df_reduced['Width'], df_reduced['Weight'])\n",
    "plt.title('Relationship between Weight and Width (After Cubing)')\n",
    "plt.xlabel('Width Cubed')\n",
    "plt.ylabel('Weight')\n",
    "\n",
    "# Show the plots\n",
    "plt.tight_layout()\n",
    "plt.show()"
   ]
  },
  {
   "cell_type": "markdown",
   "metadata": {},
   "source": [
    "Обучите модель линейной регрессии. Введите значение squared correlation.\n",
    "\n",
    "Десятичный разделитель точка. Ответ округлите до тысячных."
   ]
  },
  {
   "cell_type": "code",
   "execution_count": 9,
   "metadata": {},
   "outputs": [
    {
     "name": "stdout",
     "output_type": "stream",
     "text": [
      "Squared correlation (R² score squared) is: 0.836\n"
     ]
    }
   ],
   "source": [
    "from sklearn.linear_model import LinearRegression\n",
    "from sklearn.metrics import r2_score\n",
    "\n",
    "model = LinearRegression()\n",
    "\n",
    "model.fit(X_train, y_train)\n",
    "\n",
    "y_pred = model.predict(X_test)\n",
    "\n",
    "squared_correlation = r2_score(y_test, y_pred) ** 2\n",
    "\n",
    "print(f\"Squared correlation (R² score squared) is: {squared_correlation:.3f}\")"
   ]
  },
  {
   "cell_type": "markdown",
   "metadata": {},
   "source": [
    "Добавление категориальных признаков.\n",
    "\n",
    "Добавьте к набору данных, полученному на предыдущем этапе, ранее исключенные категориальные признаки, предварительно закодировав их при помощи one-hot encoding. Обучите модель регрессии. Введите значение squared correlation.\n",
    "\n",
    "Десятичный разделитель точка. Ответ округлите до тысячных."
   ]
  },
  {
   "cell_type": "code",
   "execution_count": 11,
   "metadata": {},
   "outputs": [
    {
     "name": "stdout",
     "output_type": "stream",
     "text": [
      "Squared correlation (R² score squared) is: 0.870\n"
     ]
    }
   ],
   "source": [
    "import pandas as pd\n",
    "from sklearn.model_selection import train_test_split\n",
    "from sklearn.linear_model import LinearRegression\n",
    "from sklearn.metrics import r2_score\n",
    "\n",
    "species_one_hot = pd.get_dummies(df['Species'], prefix='Species')\n",
    "\n",
    "df_combined = pd.concat([df_reduced.drop(columns=['Species']), species_one_hot], axis=1)\n",
    "\n",
    "X = df_combined.drop(columns=['Weight'])\n",
    "y = df_combined['Weight']\n",
    "X_train, X_test, y_train, y_test = train_test_split(X, y, test_size=0.2, random_state=15, stratify=df['Species'])\n",
    "\n",
    "model = LinearRegression()\n",
    "model.fit(X_train, y_train)\n",
    "\n",
    "y_pred = model.predict(X_test)\n",
    "\n",
    "squared_correlation = r2_score(y_test, y_pred) ** 2\n",
    "\n",
    "print(f\"Squared correlation (R² score squared) is: {squared_correlation:.3f}\")\n"
   ]
  }
 ],
 "metadata": {
  "kernelspec": {
   "display_name": "base",
   "language": "python",
   "name": "python3"
  },
  "language_info": {
   "codemirror_mode": {
    "name": "ipython",
    "version": 3
   },
   "file_extension": ".py",
   "mimetype": "text/x-python",
   "name": "python",
   "nbconvert_exporter": "python",
   "pygments_lexer": "ipython3",
   "version": "3.10.0"
  }
 },
 "nbformat": 4,
 "nbformat_minor": 2
}
