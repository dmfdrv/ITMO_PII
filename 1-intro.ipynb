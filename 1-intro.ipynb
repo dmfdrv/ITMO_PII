{
 "cells": [
  {
   "cell_type": "markdown",
   "metadata": {},
   "source": [
    "## Индивидуальное задание 1\n",
    "\n",
    "Таблица ROSSTAT_SALARY_RU, содержит сведения о средней заработной плате в РФ по регионам на 1 января 2019 года по данным Росстата. Представим ситуацию, что из-за невнимательности операциониста, регионы: Ставропольский край, Пензенская область, Кемеровская область, Алтайский край, Республика Мордовия оказались не представлены в итоговой сводке. Роль невнимательного операциониста придется исполнить Вам (т.е. нужно удалить соответствующие строки), а далее работать уже с новой выборкой.\n",
    "\n",
    "Вы можете вычислять статистические функции (например, AVG — выборочное среднее, COUNT — количество строк, VARIANCE — выборочная дисперсия, MEDIAN — выборочная медиана) прямо в СУБД. Если Вам удобнее выгружать данные в другой инструмент, например, в электронные таблицы, то при проблемах с кодировкой удобнее выполнять копирование результата запроса через буфер обмена. Обратите внимание на параметр ROWS — количество строк, которые по умолчанию выводятся в результате запроса. Однако рекомендуем получив выборку воспользоваться RapidMiner для определения статистик и знакомства с инструментом.\n",
    "\n",
    "Постройте вариационный ряд (сортировка по неубыванию, нумерация элементов начинается с 1).\n",
    "\n",
    "#### Введите $X_{30}$, $X_{37}$, $X_{60}$"
   ]
  },
  {
   "cell_type": "code",
   "execution_count": 51,
   "metadata": {},
   "outputs": [
    {
     "name": "stdout",
     "output_type": "stream",
     "text": [
      "г. Севастополь\n",
      "31008\n",
      "Астраханская область\n",
      "32166\n",
      "Приморский край\n",
      "42026\n"
     ]
    }
   ],
   "source": [
    "import pandas as pd\n",
    "\n",
    "df = pd.read_csv('C:/Users/dima/Desktop/ITMO_PII/data/task1.csv')\n",
    "\n",
    "df = df.sort_values(by='salary', ascending=True)\n",
    "\n",
    "df = df.reset_index(drop=True)\n",
    "df.index = range(1, len(df) + 1)\n",
    "\n",
    "positions = (30, 37, 60)\n",
    "\n",
    "for i in positions:\n",
    "    print(df.loc[i, 'region_name'])\n",
    "    print(df.loc[i, 'salary',])"
   ]
  },
  {
   "cell_type": "markdown",
   "metadata": {},
   "source": [
    "#### Найдите выборочное среднее: \n",
    "\n",
    "Ответ округлите до сотых.\n",
    "\n",
    "#### Определите выборочную медиану:"
   ]
  },
  {
   "cell_type": "code",
   "execution_count": 52,
   "metadata": {},
   "outputs": [
    {
     "name": "stdout",
     "output_type": "stream",
     "text": [
      "mean value: 39393.99\n",
      "median value: 33111.5\n"
     ]
    }
   ],
   "source": [
    "mean_val = df['salary'].mean()\n",
    "median_val = df['salary'].median()\n",
    "\n",
    "print(f\"mean value: {mean_val:.2f}\")\n",
    "print(f\"median value: {median_val}\")"
   ]
  }
 ],
 "metadata": {
  "kernelspec": {
   "display_name": "Python 3",
   "language": "python",
   "name": "python3"
  },
  "language_info": {
   "codemirror_mode": {
    "name": "ipython",
    "version": 3
   },
   "file_extension": ".py",
   "mimetype": "text/x-python",
   "name": "python",
   "nbconvert_exporter": "python",
   "pygments_lexer": "ipython3",
   "version": "3.10.0"
  }
 },
 "nbformat": 4,
 "nbformat_minor": 2
}
