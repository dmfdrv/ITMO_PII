{
 "cells": [
  {
   "cell_type": "markdown",
   "metadata": {},
   "source": [
    "## Автоматическая обработка текстов\n",
    "\n",
    "По ссылке находится произведение русской классики (использовать весь текст по ссылке, включая возможные примечания и тому подобное). Ваша задача -- при помощи сервиса Mystem версии 3.1 привести слова произведения к нормальной форме и найти частоты указанных слов при помощи сервиса . В качестве частоты указывать значения только для самих слов (без учета слов с \"прилипшими\" символами)."
   ]
  },
  {
   "cell_type": "code",
   "execution_count": null,
   "metadata": {},
   "outputs": [],
   "source": [
    "from pymystem3 import Mystem\n",
    "\n",
    "with open('C:/Users/dima/Desktop/ITMO_PII/data/leskov.txt', 'r', encoding='utf-8') as file:\n",
    "    text = file.read()\n",
    "\n",
    "m = Mystem()\n",
    "lemmas = m.lemmatize(text)\n",
    "\n",
    "with open('C:/Users/dima/Desktop/ITMO_PII/data/leskov_processed.txt', 'w', encoding='utf-8') as output_file:\n",
    "    output_file.write(''.join(lemmas))"
   ]
  },
  {
   "cell_type": "code",
   "execution_count": null,
   "metadata": {},
   "outputs": [],
   "source": [
    "# Задаем слова для поиска\n",
    "search_words = {'word1', 'word2', 'word3'}\n",
    "\n",
    "# Исключаемые символы\n",
    "excluded_chars = {'(', ')', '%', '$', '+', '/', '!', ',', '?', ':', ';'}\n",
    "\n",
    "# Множество для хранения уникальных слов, которые уже встречались\n",
    "unique_words_seen = set()\n",
    "\n",
    "# Инициализируем счетчик\n",
    "word_count = {word: 0 for word in search_words}\n",
    "\n",
    "# Открываем файл\n",
    "with open('C:/Users/dima/Desktop/ITMO_PII/data/leskov_processed.txt', 'r', encoding='utf-8') as file:\n",
    "    # Читаем файл построчно\n",
    "    for line in file:\n",
    "        # Удаляем исключаемые символы\n",
    "        for char in excluded_chars:\n",
    "            line = line.replace(char, ' ')\n",
    "        # Разделяем строку на слова\n",
    "        words = line.split()\n",
    "        # Считаем каждое слово\n",
    "        for word in words:\n",
    "            # Убираем пунктуацию с каждого слова\n",
    "            word_cleaned = ''.join(char for char in word if char.isalnum())\n",
    "            # Проверяем, содержится ли слово в словаре и является ли оно уникальным\n",
    "            if word_cleaned.lower() in search_words and word_cleaned.lower() not in unique_words_seen:\n",
    "                word_count[word_cleaned.lower()] += 1\n",
    "                # Добавляем слово в множество уникальных слов\n",
    "                unique_words_seen.add(word_cleaned.lower())\n",
    "\n",
    "# Выводим количество для каждого слова\n",
    "for word, count in word_count.items():\n",
    "    print(f\"The word '{word}' occurs {count} times.\")"
   ]
  }
 ],
 "metadata": {
  "kernelspec": {
   "display_name": "Python 3",
   "language": "python",
   "name": "python3"
  },
  "language_info": {
   "codemirror_mode": {
    "name": "ipython",
    "version": 3
   },
   "file_extension": ".py",
   "mimetype": "text/x-python",
   "name": "python",
   "nbconvert_exporter": "python",
   "pygments_lexer": "ipython3",
   "version": "3.10.0"
  }
 },
 "nbformat": 4,
 "nbformat_minor": 2
}
