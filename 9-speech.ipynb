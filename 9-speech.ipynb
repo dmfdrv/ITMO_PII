{
 "cells": [
  {
   "cell_type": "markdown",
   "metadata": {},
   "source": [
    "## Биометрия, распознавание и синтез речи"
   ]
  },
  {
   "cell_type": "markdown",
   "metadata": {},
   "source": [
    "### Задача\n",
    "\n",
    "Проведем второй тур соревнования между естественным и искусственным интеллектом. На первом этапе Вам необходимо прослушать предложенные аудиофрагменты и выбрать верный ответ. \n",
    "\n",
    "На втором этапе в бой вступает искусственный интеллект. Вам необходимо ввести полученные после распознавания фразы.\n",
    "\n",
    "Перед выполнением упражнения изучите инструкцию и запустите Jupyter блокнот, выполнив распознавание тестовой звуковой дорожки моделью Pocket Sphinx."
   ]
  },
  {
   "cell_type": "code",
   "execution_count": null,
   "metadata": {},
   "outputs": [],
   "source": [
    "import speech_recognition as sr\n",
    "\n",
    "# Имя файла, который требуется распознать\n",
    "AUDIO_FILE = '0.wav'\n",
    "\n",
    "# Чтение файла\n",
    "r = sr.Recognizer()\n",
    "with sr.AudioFile(AUDIO_FILE) as source:\n",
    "    audio = r.record(source)\n",
    "\n",
    "# Распознавание с помощью Sphinx\n",
    "try:\n",
    "    print(\"Результат Sphinx: \" + r.recognize_sphinx(audio))\n",
    "except sr.UnknownValueError:\n",
    "    print(\"Ошибка: Sphinx could not understand audio\")\n",
    "except sr.RequestError as e:\n",
    "    print(\"Ошибка: Sphinx error; {0}\".format(e))\n"
   ]
  }
 ],
 "metadata": {
  "language_info": {
   "name": "python"
  }
 },
 "nbformat": 4,
 "nbformat_minor": 2
}
